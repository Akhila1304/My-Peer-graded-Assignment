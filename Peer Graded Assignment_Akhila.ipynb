{
 "cells": [
  {
   "cell_type": "markdown",
   "id": "2736d521-912a-498e-91c0-210dc57e7173",
   "metadata": {},
   "source": [
    "# My Jupyter Notebook on IBM Watson Studio"
   ]
  },
  {
   "cell_type": "markdown",
   "id": "6797942f-9ec4-42c8-819a-3d38fcff1bea",
   "metadata": {},
   "source": [
    "**Akhila Subramanian**\n",
    "\n",
    " Aspiring Data Analyst"
   ]
  },
  {
   "cell_type": "markdown",
   "id": "185b95a0-cf04-4978-95be-52a9b726f989",
   "metadata": {},
   "source": [
    "*I am interested in data science because, I find data science as the key tool for solving all the problems in any company. I enjoy playing with numbers, data science provides me the passion and curiosity to pursue it. I am learning to be data analyst to upgrade myself to the growing world.*"
   ]
  },
  {
   "cell_type": "markdown",
   "id": "9a220253-5252-43fc-8db0-98db07d2a052",
   "metadata": {},
   "source": [
    "### Here my code is going to display the result of 99 + 1"
   ]
  },
  {
   "cell_type": "code",
   "execution_count": 1,
   "id": "1b8c52b5-8444-46a5-ac86-cf076c654e81",
   "metadata": {},
   "outputs": [
    {
     "data": {
      "text/plain": [
       "100"
      ]
     },
     "execution_count": 1,
     "metadata": {},
     "output_type": "execute_result"
    }
   ],
   "source": [
    "99 + 1"
   ]
  },
  {
   "cell_type": "markdown",
   "id": "eb8bf24e-bcf9-46ab-80b2-cfb6391912b7",
   "metadata": {
    "tags": []
   },
   "source": [
    "Ways to get a number 100\n",
    "---\n",
    "- 99 + 1\n",
    "- 101 - 1\n",
    "- 50 + 50\n",
    "\n",
    "Mathematical operations to use for getting 100\n",
    "---\n",
    "1. Addition\n",
    "2. Subtraction\n",
    "3. Multiplication\n",
    "4. Division\n",
    "\n",
    "Examples in each category\n",
    "---\n",
    "| Mathematical Operation | Example | Value |\n",
    "|------------------------|---------|-------|\n",
    "|Addition|99 + 1|100|\n",
    "|Subtraction|101 - 1|100|\n",
    "|Multiplication|50 x 2|100|\n",
    "|Divsion|400 / 4|100|\n",
    "\n",
    "Here are some fun facts about 100\"\n",
    "---\n",
    "\n",
    "https://www.baylor.edu/soe/100/index.php?id=961634#:~:text=1%20There%20are%20100%20years%20in%20a%20century.,7%20There%20are%20100%20pennies%20in%20one%20dollar. \n",
    "\n",
    "~~I have used horizontal rule, bulleted list, numbered list, tables, hyperlinks and last but not the least strikethrough~~"
   ]
  },
  {
   "cell_type": "markdown",
   "id": "6d6d161a-2548-4cbd-8229-68916b922fb1",
   "metadata": {},
   "source": [
    "\n",
    "\n",
    "# Thank you !\n",
    "\n",
    "\n"
   ]
  }
 ],
 "metadata": {
  "kernelspec": {
   "display_name": "Python",
   "language": "python",
   "name": "conda-env-python-py"
  },
  "language_info": {
   "codemirror_mode": {
    "name": "ipython",
    "version": 3
   },
   "file_extension": ".py",
   "mimetype": "text/x-python",
   "name": "python",
   "nbconvert_exporter": "python",
   "pygments_lexer": "ipython3",
   "version": "3.7.12"
  }
 },
 "nbformat": 4,
 "nbformat_minor": 5
}
